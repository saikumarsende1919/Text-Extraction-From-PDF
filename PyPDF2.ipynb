{
 "cells": [
  {
   "cell_type": "code",
   "execution_count": 22,
   "id": "e3dd8eba",
   "metadata": {},
   "outputs": [],
   "source": [
    "import PyPDF2\n",
    "\n",
    "pdf_file = open('equitas.pdf', 'rb')\n",
    "pdf_reader = PyPDF2.PdfReader(pdf_file)\n",
    "\n",
    "text = \"\"\n",
    "for page in range(len(pdf_reader.pages)):\n",
    "    page_obj = pdf_reader.pages[page]\n",
    "    text += page_obj.extract_text()\n",
    "\n",
    "pdf_file.close()\n",
    "\n"
   ]
  },
  {
   "cell_type": "code",
   "execution_count": 23,
   "id": "d0b9ba67",
   "metadata": {},
   "outputs": [
    {
     "name": "stdout",
     "output_type": "stream",
     "text": [
      " \n",
      " \n",
      " \n",
      "April 0 5, 2024  \n",
      "National Stock Exchange of India Limited  \n",
      "Exchange Plaza  \n",
      "Bandra Kurla Complex (BKC)  \n",
      "Bandra ( East) \n",
      "Mumbai – 400051  \n",
      " BSE Limited  \n",
      "Phiroze Jeejeeboy Towers  \n",
      "Dalal Street  \n",
      "Mumbai – 400001  \n",
      "Symbol: EQUITASBNK  Scrip Code No : 543243  \n",
      " \n",
      "Dear Sir  \n",
      "Sub: Approval from Reserve Bank of India for appointment of Mr. Anil Kumar Sharma , \n",
      "former Executive Director, RBI  as Part-time  Chair man of the Bank  \n",
      " \n",
      "Pursuant to  applicable clauses of the SEBI (Listing Obligations and Disclosure Requirements) \n",
      "Regulations, 2015, we would like to inform that in accordance with terms of the Banking \n",
      "Regulation Act,  1949, the Reserve Bank of India vide its letter bearing reference \n",
      "DoR.GOV.No.S120/29.44.002/2 024-25 dated April 04,  2024 (received by the Bank on April 04,  \n",
      "2024  @ 4.33 pm ) has approved the recommendation of the Board of the Bank for the  \n",
      "appointment of Mr. Anil Kumar Sharma (DIN:  08537123 ), former  Executive Director, Reserve \n",
      "Bank of India as Part-time Chair man  of the Bank for a period of three (3 ) years with effect \n",
      "from April 25,  2024 , consequent to the cessation of tenure of the present Part -time Chairman \n",
      "of the B ank Mr. Arun Ramanathan (DIN: 00308848 ) on April 24, 2024 . \n",
      " \n",
      "The proposed appointm ent shall  be placed before the ensuing meeting of the Board of \n",
      "Directors of the Bank, details of which will be informed in compliance with applicable \n",
      "regulatory requirements . \n",
      " \n",
      "Kindly take the above information on record.  \n",
      "Thanking you,  \n",
      "Yours faithfully,  \n",
      "For Equitas Small Finance Bank Limited  \n",
      " \n",
      "N Ramanathan  \n",
      "Company Secretary  \n",
      " \n"
     ]
    }
   ],
   "source": [
    "print(text)"
   ]
  },
  {
   "cell_type": "code",
   "execution_count": null,
   "id": "7b651d20",
   "metadata": {},
   "outputs": [],
   "source": []
  }
 ],
 "metadata": {
  "kernelspec": {
   "display_name": "Python 3 (ipykernel)",
   "language": "python",
   "name": "python3"
  },
  "language_info": {
   "codemirror_mode": {
    "name": "ipython",
    "version": 3
   },
   "file_extension": ".py",
   "mimetype": "text/x-python",
   "name": "python",
   "nbconvert_exporter": "python",
   "pygments_lexer": "ipython3",
   "version": "3.11.5"
  }
 },
 "nbformat": 4,
 "nbformat_minor": 5
}
