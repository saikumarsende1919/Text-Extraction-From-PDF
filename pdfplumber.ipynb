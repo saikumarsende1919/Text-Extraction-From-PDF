{
 "cells": [
  {
   "cell_type": "code",
   "execution_count": 1,
   "id": "2cdf4c6a",
   "metadata": {},
   "outputs": [],
   "source": [
    "import pdfplumber\n",
    "\n",
    "with pdfplumber.open('equitas.pdf') as pdf:\n",
    "    pages = pdf.pages\n",
    "    for page in pages:\n",
    "        text = page.extract_text()"
   ]
  },
  {
   "cell_type": "code",
   "execution_count": 3,
   "id": "b640793c",
   "metadata": {},
   "outputs": [
    {
     "name": "stdout",
     "output_type": "stream",
     "text": [
      "April 05, 2024\n",
      "National Stock Exchange of India Limited BSE Limited\n",
      "Exchange Plaza Phiroze Jeejeeboy Towers\n",
      "Bandra Kurla Complex (BKC) Dalal Street\n",
      "Bandra (East) Mumbai – 400001\n",
      "Mumbai – 400051\n",
      "Symbol: EQUITASBNK Scrip Code No : 543243\n",
      "Dear Sir\n",
      "Sub: Approval from Reserve Bank of India for appointment of Mr. Anil Kumar Sharma,\n",
      "former Executive Director, RBI as Part-time Chairman of the Bank\n",
      "Pursuant to applicable clauses of the SEBI (Listing Obligations and Disclosure Requirements)\n",
      "Regulations, 2015, we would like to inform that in accordance with terms of the Banking\n",
      "Regulation Act, 1949, the Reserve Bank of India vide its letter bearing reference\n",
      "DoR.GOV.No.S120/29.44.002/2024-25 dated April 04, 2024 (received by the Bank on April 04,\n",
      "2024 @ 4.33 pm) has approved the recommendation of the Board of the Bank for the\n",
      "appointment of Mr. Anil Kumar Sharma (DIN: 08537123), former Executive Director, Reserve\n",
      "Bank of India as Part-time Chairman of the Bank for a period of three (3) years with effect\n",
      "from April 25, 2024, consequent to the cessation of tenure of the present Part-time Chairman\n",
      "of the Bank Mr. Arun Ramanathan (DIN:00308848) on April 24, 2024.\n",
      "The proposed appointment shall be placed before the ensuing meeting of the Board of\n",
      "Directors of the Bank, details of which will be informed in compliance with applicable\n",
      "regulatory requirements.\n",
      "Kindly take the above information on record.\n",
      "Thanking you,\n",
      "Yours faithfully,\n",
      "For Equitas Small Finance Bank Limited\n",
      "N Ramanathan\n",
      "Company Secretary\n"
     ]
    }
   ],
   "source": [
    "print(text)"
   ]
  },
  {
   "cell_type": "code",
   "execution_count": null,
   "id": "999b9b07",
   "metadata": {},
   "outputs": [],
   "source": []
  }
 ],
 "metadata": {
  "kernelspec": {
   "display_name": "Python 3 (ipykernel)",
   "language": "python",
   "name": "python3"
  },
  "language_info": {
   "codemirror_mode": {
    "name": "ipython",
    "version": 3
   },
   "file_extension": ".py",
   "mimetype": "text/x-python",
   "name": "python",
   "nbconvert_exporter": "python",
   "pygments_lexer": "ipython3",
   "version": "3.11.5"
  }
 },
 "nbformat": 4,
 "nbformat_minor": 5
}
